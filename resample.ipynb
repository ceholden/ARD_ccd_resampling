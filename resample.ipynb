{
 "cells": [
  {
   "cell_type": "markdown",
   "metadata": {},
   "source": [
    "# Resampling ARD"
   ]
  },
  {
   "cell_type": "markdown",
   "metadata": {},
   "source": [
    "One approach to achieving spatial-temporal consistency when using ARD is to resample the data to some standard (or regular) temporal interval before running anything.\n",
    "\n",
    "Resampling, often referred to as compositing within remote sensing literature, is the process of grouping observations by time and reducing this group according to some criteria. One commonly used example of this is generating monthly \"maximum NDVI\" composites, often at an annual or monthly time intervals. Even more sophisticated approaches, like the \"Best Available Pixel\" approach from Wulder _et al_, can be described by this logic.\n",
    "\n",
    "The resample operation can be considered to have the following parameters:\n",
    "\n",
    "* Dimension (in this example, the time dimension)\n",
    "* Interval\n",
    "* Resampling criteria (usually a band or index)\n",
    "* Reduction function (e.g., \"max\" or \"min\")"
   ]
  },
  {
   "cell_type": "code",
   "execution_count": 1,
   "metadata": {},
   "outputs": [],
   "source": [
    "import datetime as dt\n",
    "\n",
    "import matplotlib.pyplot as plt\n",
    "import toolz\n",
    "import xarray as xr\n",
    "\n",
    "import ccd\n",
    "\n",
    "plt.style.use('ggplot')"
   ]
  },
  {
   "cell_type": "markdown",
   "metadata": {},
   "source": [
    "## Load data"
   ]
  },
  {
   "cell_type": "code",
   "execution_count": 2,
   "metadata": {},
   "outputs": [
    {
     "data": {
      "text/plain": [
       "<xarray.Dataset>\n",
       "Dimensions:  (time: 2916, x: 10, y: 10)\n",
       "Coordinates:\n",
       "  * y        (y) float64 1.935e+06 1.935e+06 1.935e+06 1.935e+06 1.935e+06 ...\n",
       "  * x        (x) float64 -2.11e+06 -2.11e+06 -2.11e+06 -2.109e+06 -2.109e+06 ...\n",
       "    crs      int32 ...\n",
       "  * time     (time) datetime64[ns] 1982-11-15 1982-11-24 1982-12-01 ...\n",
       "Data variables:\n",
       "    blue     (time, y, x) float64 ...\n",
       "    green    (time, y, x) float64 ...\n",
       "    red      (time, y, x) float64 ...\n",
       "    nir      (time, y, x) float64 ...\n",
       "    swir1    (time, y, x) float64 ...\n",
       "    swir2    (time, y, x) float64 ...\n",
       "    bt       (time, y, x) float64 ...\n",
       "    cfmask   (time, y, x) float64 ...\n",
       "Attributes:\n",
       "    crs:          +datum=WGS84 +lat_0=23 +lat_1=29.5 +lat_2=45.5 +lon_0=-96 +...\n",
       "    crs_wkt:      PROJCS[\"unnamed\",GEOGCS[\"WGS 84\",DATUM[\"WGS_1984\",SPHEROID[...\n",
       "    Conventions:  CF-1.6\n",
       "    spatial_ref:  PROJCS[\"unnamed\",GEOGCS[\"WGS 84\",DATUM[\"WGS_1984\",SPHEROID[..."
      ]
     },
     "execution_count": 2,
     "metadata": {},
     "output_type": "execute_result"
    }
   ],
   "source": [
    "ard = xr.open_dataset('./h03v09_ard_example.nc')\n",
    "ard"
   ]
  },
  {
   "cell_type": "markdown",
   "metadata": {},
   "source": [
    "Select a pixel to use as an example."
   ]
  },
  {
   "cell_type": "code",
   "execution_count": 3,
   "metadata": {},
   "outputs": [
    {
     "name": "stderr",
     "output_type": "stream",
     "text": [
      "/home/ceholden/conda/envs/resample/lib/python3.6/site-packages/xarray/core/dtypes.py:23: FutureWarning: Conversion of the second argument of issubdtype from `float` to `np.floating` is deprecated. In future, it will be treated as `np.float64 == np.dtype(float).type`.\n",
      "  if np.issubdtype(dtype, float):\n"
     ]
    }
   ],
   "source": [
    "# Select\n",
    "pix = ard.isel(x=0, y=0)\n",
    "\n",
    "# Mask according to CFmask\n",
    "land_water = np.array([0, 1])\n",
    "pix = pix.where(np.in1d(pix['cfmask'], land_water))\n",
    "\n",
    "# Create \"ordinal\" date for later\n",
    "pix['ordinal'] = pix.get_index('time').map(lambda t: t.toordinal())"
   ]
  },
  {
   "cell_type": "markdown",
   "metadata": {},
   "source": [
    "## Resample"
   ]
  },
  {
   "cell_type": "markdown",
   "metadata": {},
   "source": [
    "To resample, we can use [`xarray.DataArray.resample`](http://xarray.pydata.org/en/stable/generated/xarray.DataArray.resample.html#xarray.DataArray.resample) (see also [`pandas.DataFrame.resample`](https://pandas.pydata.org/pandas-docs/stable/generated/pandas.DataFrame.resample.html)). See the [xarray guide on time series operations](http://xarray.pydata.org/en/stable/time-series.html#resampling-and-grouped-operations) for more information.\n",
    "\n",
    "However, we need to add a little more code ourselves to resample other bands/variables/etc by our desired criteria."
   ]
  },
  {
   "cell_type": "code",
   "execution_count": 4,
   "metadata": {},
   "outputs": [],
   "source": [
    "_RESAMPLE_BY_METHODS = ('min', 'max', 'first', 'last', 'median', )\n",
    "\n",
    "\n",
    "def resample_by(dataset, var, freq, dim, how='max',\n",
    "                keep_attrs=True, **resample_kwds):\n",
    "    \"\"\" Resample all variables in Dataset based on one ``var``\n",
    "    \n",
    "    For example, one could resample all Landsat bands based on the\n",
    "    maximum value in the ``ndvi`` variable.\n",
    "\n",
    "    Parameters\n",
    "    ----------\n",
    "    dataset : xarray.Dataset\n",
    "        Dataset containing variables to resample. Cannot resample any\n",
    "        data containing string or object datatypes.\n",
    "    var : str\n",
    "        Variable name in ``dataset``\n",
    "    freq : str\n",
    "        Offset frequency that specifies the step-size along the resampled dimension.\n",
    "        Should look like ``{N}{offset}`` where ``N`` is an (optional) integer multipler\n",
    "        (default 1) and ``offset`` is any pandas date offset alias. The full list of\n",
    "        offset aliases is documented in pandas [1]_.\n",
    "    dim : str\n",
    "        Dimension name to resample along (e.g., 'time')\n",
    "    how : str or callable\n",
    "        Resampling reduction method (e.g., 'mean'). The method must not alter data from\n",
    "        ``dataset``, so only operations like ``first`` or ``max`` are supported.\n",
    "    keep_attrs : bool, optional\n",
    "        If True, the object's attributes (`attrs`) will be copied from the original\n",
    "        object to the new one.\n",
    "    resample_kwds\n",
    "        Keyword options to pass to :py:meth:`xarray.Dataset.resample`\n",
    "\n",
    "    Returns\n",
    "    -------\n",
    "    xarray.Dataset\n",
    "        Resampled dataset, resampled according to ``var``\n",
    "\n",
    "    Raises\n",
    "    ------\n",
    "    ValueError\n",
    "        Raised when using an unsupported resampling method\n",
    "    TypeError\n",
    "        Raised if any dataset variables are string/bytes/object datatype\n",
    "\n",
    "    References\n",
    "    ----------\n",
    "    .. [1] http://pandas.pydata.org/pandas-docs/stable/timeseries.html#offset-aliases\n",
    "    \"\"\"\n",
    "    # Implementation note:\n",
    "    # xarray's \"argmin\" and \"argmax\" doesn't work with more than one dimension\n",
    "    # See https://github.com/pydata/xarray/issues/1388\n",
    "    # \n",
    "    # There should be  faster way than resampling and masking and resampling again,\n",
    "    # but will need to wait on some work within `xarray`\n",
    "    if how not in _RESAMPLE_BY_METHODS:\n",
    "        raise ValueError(\"Cannot resample by '{0}'. Please choose from: {1}\"\n",
    "                         .format(how, ', '.join(_RESAMPLE_BY_METHODS)))\n",
    "\n",
    "    # Without the ability to select based on argmin/argmax we need to use a\n",
    "    # workaround (masking the arrays), but this doesn't work on string data\n",
    "    is_str = [dv for dv in dataset.data_vars if\n",
    "              dataset[dv].dtype.type in (np.str_, np.bytes_, np.object_)]\n",
    "    if is_str:\n",
    "        raise TypeError('Cannot use `resample_by` with string or object '\n",
    "                        'datatypes (as used by {var})'\n",
    "                        .format(var=', '.join(['\"%s\"' % dv for dv in is_str])))\n",
    "\n",
    "    # Resample by criterion variable\n",
    "    kwds_re = toolz.merge({dim: freq}, resample_kwds)\n",
    "    var_re = getattr(dataset[[var]].resample(**kwds_re), how)()\n",
    "\n",
    "    # Now that we know what observations have been selected by the reduction,\n",
    "    # reindex the resampled data to look like the original dataset\n",
    "    var_reidx = var_re.reindex_like(dataset, method='ffill')\n",
    "\n",
    "    # Find where identical, and mask the rest so that it can be ignored when we resample\n",
    "    mask = (dataset[[var]] == var_reidx[[var]])[var]\n",
    "    ds_masked = dataset.where(mask)\n",
    "    \n",
    "    # Ideally we want to use 'first' instead of 'max', but it's not implemented on dask arrays\n",
    "    return ds_masked.resample(**kwds_re).max()"
   ]
  },
  {
   "cell_type": "markdown",
   "metadata": {},
   "source": [
    "In this example, we define the ratio of the NIR to the blue, which is pretty good at eliminating clouds and cloud shadows."
   ]
  },
  {
   "cell_type": "code",
   "execution_count": 5,
   "metadata": {},
   "outputs": [],
   "source": [
    "pix['sr_nir_blue'] = pix['nir'] / pix['blue']"
   ]
  },
  {
   "cell_type": "code",
   "execution_count": 6,
   "metadata": {},
   "outputs": [
    {
     "name": "stderr",
     "output_type": "stream",
     "text": [
      "/home/ceholden/conda/envs/resample/lib/python3.6/site-packages/xarray/core/common.py:594: FutureWarning: pd.TimeGrouper is deprecated and will be removed; Please use pd.Grouper(freq=...)\n",
      "  label=label, base=base)\n",
      "/home/ceholden/conda/envs/resample/lib/python3.6/site-packages/xarray/core/dtypes.py:23: FutureWarning: Conversion of the second argument of issubdtype from `float` to `np.floating` is deprecated. In future, it will be treated as `np.float64 == np.dtype(float).type`.\n",
      "  if np.issubdtype(dtype, float):\n",
      "/home/ceholden/conda/envs/resample/lib/python3.6/site-packages/xarray/core/dtypes.py:23: FutureWarning: Conversion of the second argument of issubdtype from `float` to `np.floating` is deprecated. In future, it will be treated as `np.float64 == np.dtype(float).type`.\n",
      "  if np.issubdtype(dtype, float):\n",
      "/home/ceholden/conda/envs/resample/lib/python3.6/site-packages/xarray/core/dtypes.py:25: FutureWarning: Conversion of the second argument of issubdtype from `int` to `np.signedinteger` is deprecated. In future, it will be treated as `np.int64 == np.dtype(int).type`.\n",
      "  elif np.issubdtype(dtype, int):\n",
      "/home/ceholden/conda/envs/resample/lib/python3.6/site-packages/xarray/core/common.py:594: FutureWarning: pd.TimeGrouper is deprecated and will be removed; Please use pd.Grouper(freq=...)\n",
      "  label=label, base=base)\n"
     ]
    }
   ],
   "source": [
    "criterion = 'sr_nir_blue'\n",
    "\n",
    "resample_freq = '16D'\n",
    "resample_dim = 'time'\n",
    "resample_reduce = 'max'\n",
    "\n",
    "pix_re = resample_by(pix, criterion, resample_freq, resample_dim, how=resample_reduce)"
   ]
  },
  {
   "cell_type": "markdown",
   "metadata": {},
   "source": [
    "## Visualize"
   ]
  },
  {
   "cell_type": "code",
   "execution_count": 7,
   "metadata": {},
   "outputs": [
    {
     "data": {
      "text/plain": [
       "<matplotlib.legend.Legend at 0x7fd17d7a7ef0>"
      ]
     },
     "execution_count": 7,
     "metadata": {},
     "output_type": "execute_result"
    },
    {
     "data": {
      "image/png": "[encoded data removed]",
      "text/plain": [
       "<matplotlib.figure.Figure at 0x7fd17d718f98>"
      ]
     },
     "metadata": {},
     "output_type": "display_data"
    }
   ],
   "source": [
    "%matplotlib inline\n",
    "\n",
    "plot_var = 'swir1'\n",
    "\n",
    "fig, ax = plt.subplots(figsize=(10, 4))\n",
    "\n",
    "x = pix.get_index('time').to_pydatetime()\n",
    "ax.plot(x, pix[plot_var], 'ro', label='ARD')\n",
    "\n",
    "x_re = pix_re.get_index('time').to_pydatetime()\n",
    "ax.plot(x_re, pix_re[plot_var], 'bo', label='ARD-RE')\n",
    "\n",
    "ax.legend()"
   ]
  },
  {
   "cell_type": "markdown",
   "metadata": {},
   "source": [
    "As you can see, resampling to 16 day frequency in this example data only affects observations post-1999 when there were two satellites acquiring data.\n",
    "\n",
    "This resampling would also help achieve consistency for pixels that are in the overlap across Landsat orbit paths. By carefully picking our selection criterion variable, we can help remove some amount of noise due to clouds or cloud shadows. The resampling process can also reduce the impact of BRDF effects by consistently selecting data from one view angle over another."
   ]
  },
  {
   "cell_type": "markdown",
   "metadata": {},
   "source": [
    "## CCD"
   ]
  },
  {
   "cell_type": "markdown",
   "metadata": {},
   "source": [
    "With the data resampled, we can compare the performance in CCD."
   ]
  },
  {
   "cell_type": "code",
   "execution_count": 8,
   "metadata": {},
   "outputs": [],
   "source": [
    "# The example data CFmask data have been converted to old Fmask format\n",
    "params = {\n",
    "    'QA_BITPACKED': False,\n",
    "    'QA_FILL': 255,\n",
    "    'QA_CLEAR': 0,\n",
    "    'QA_WATER': 1,\n",
    "    'QA_SHADOW': 2,\n",
    "    'QA_SNOW': 3,\n",
    "    'QA_CLOUD': 4\n",
    "}\n",
    "\n",
    "ccd_vars = ('ordinal', 'blue', 'green', 'red', 'nir', 'swir1', 'swir2', 'bt', 'cfmask')"
   ]
  },
  {
   "cell_type": "code",
   "execution_count": 9,
   "metadata": {},
   "outputs": [
    {
     "name": "stderr",
     "output_type": "stream",
     "text": [
      "/home/ceholden/conda/envs/resample/lib/python3.6/site-packages/ccd/models/robust_fit.py:96: FutureWarning: `rcond` parameter will change to the default of machine precision times ``max(M, N)`` where M and N are the input matrix dimensions.\n",
      "To use the future default and silence this warning we advise to pass `rcond=None`, to keep using the old, explicitly pass `rcond=-1`.\n",
      "  beta, _, _, _ = numpy.linalg.lstsq(Xw, yw)\n"
     ]
    }
   ],
   "source": [
    "detect = ccd.detect(*(pix[v] for v in ccd_vars), params=params)"
   ]
  },
  {
   "cell_type": "code",
   "execution_count": 10,
   "metadata": {},
   "outputs": [
    {
     "name": "stderr",
     "output_type": "stream",
     "text": [
      "/home/ceholden/conda/envs/resample/lib/python3.6/site-packages/ccd/models/robust_fit.py:96: FutureWarning: `rcond` parameter will change to the default of machine precision times ``max(M, N)`` where M and N are the input matrix dimensions.\n",
      "To use the future default and silence this warning we advise to pass `rcond=None`, to keep using the old, explicitly pass `rcond=-1`.\n",
      "  beta, _, _, _ = numpy.linalg.lstsq(Xw, yw)\n"
     ]
    }
   ],
   "source": [
    "detect_re = ccd.detect(*(pix_re[v] for v in ccd_vars), params=params)"
   ]
  },
  {
   "cell_type": "code",
   "execution_count": 11,
   "metadata": {},
   "outputs": [
    {
     "data": {
      "text/plain": [
       "<matplotlib.legend.Legend at 0x7fd17d435f60>"
      ]
     },
     "execution_count": 11,
     "metadata": {},
     "output_type": "execute_result"
    },
    {
     "data": {
      "image/png": "[encoded data removed]",
      "text/plain": [
       "<matplotlib.figure.Figure at 0x7fd17d7818d0>"
      ]
     },
     "metadata": {},
     "output_type": "display_data"
    }
   ],
   "source": [
    "%matplotlib inline\n",
    "\n",
    "plot_var = 'swir1'\n",
    "\n",
    "fig, ax = plt.subplots(figsize=(10, 4))\n",
    "\n",
    "# Original data\n",
    "x = pix.get_index('time').to_pydatetime()\n",
    "ax.plot(x, pix[plot_var], 'ro', label='ARD')\n",
    "\n",
    "for model in detect['change_models']:\n",
    "    break_day = dt.datetime.fromordinal(model['break_day'])\n",
    "    ax.axvline(break_day, c='r', ls='--')\n",
    "\n",
    "# Resampled data\n",
    "x_re = pix_re.get_index('time').to_pydatetime()\n",
    "ax.plot(x_re, pix_re[plot_var], 'bo', label='ARD-RE')\n",
    "\n",
    "for model in detect_re['change_models']:\n",
    "    break_day = dt.datetime.fromordinal(model['break_day'])\n",
    "    ax.axvline(break_day, c='b', ls='--')\n",
    "\n",
    "ax.legend()"
   ]
  },
  {
   "cell_type": "markdown",
   "metadata": {},
   "source": [
    "In this example, resampling the data did not change the result of the CCD break detection modeling."
   ]
  }
 ],
 "metadata": {
  "kernelspec": {
   "display_name": "Python 3",
   "language": "python",
   "name": "python3"
  },
  "language_info": {
   "codemirror_mode": {
    "name": "ipython",
    "version": 3
   },
   "file_extension": ".py",
   "mimetype": "text/x-python",
   "name": "python",
   "nbconvert_exporter": "python",
   "pygments_lexer": "ipython3",
   "version": "3.6.4"
  }
 },
 "nbformat": 4,
 "nbformat_minor": 2
}
